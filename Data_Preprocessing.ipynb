{
 "cells": [
  {
   "cell_type": "markdown",
   "metadata": {},
   "source": [
    "## Data Preprocessing\n"
   ]
  },
  {
   "cell_type": "code",
   "execution_count": 377,
   "metadata": {},
   "outputs": [],
   "source": [
    "import pandas as pd\n",
    "from sklearn.model_selection import train_test_split\n",
    "from sklearn.metrics import mean_squared_error\n",
    "from sklearn.metrics import r2_score\n",
    "import numpy as np\n",
    "from geopy import merge_geodata\n",
    "from geopy import get_geodata\n",
    "from date_pyler import applier_cwise\n",
    "from date_pyler import to_date\n",
    "import seaborn as sns\n",
    "from sklearn.preprocessing import OneHotEncoder\n",
    "from sklearn.preprocessing import MinMaxScaler\n",
    "from sklearn.linear_model import LinearRegression\n",
    "from sklearn.metrics import mean_squared_error\n",
    "from sklearn.metrics import r2_score\n",
    "from sklearn.preprocessing import PolynomialFeatures\n",
    "\n",
    "df = pd.read_csv(\"data/Train.csv\")\n",
    "df = df.set_index(\"ID\")"
   ]
  },
  {
   "cell_type": "markdown",
   "metadata": {},
   "source": [
    "## Geodata\n"
   ]
  },
  {
   "cell_type": "code",
   "execution_count": 378,
   "metadata": {},
   "outputs": [],
   "source": [
    "# add geodata to dataframe\n",
    "geo_data = get_geodata(df.DEPSTN, df.ARRSTN)\n",
    "\n",
    "df_geo = merge_geodata(df, geo_data, \"DEPSTN\")\n",
    "df_geo = merge_geodata(df_geo, geo_data, \"ARRSTN\")"
   ]
  },
  {
   "cell_type": "markdown",
   "metadata": {},
   "source": [
    "## Date data type convertion\n"
   ]
  },
  {
   "cell_type": "code",
   "execution_count": 379,
   "metadata": {},
   "outputs": [],
   "source": [
    "# columnwise datetype conversion on dataframe\n",
    "date_order = [\n",
    "    [\"%Y\", \"%m\", \"%d\", \"%H\", \"%M\", \"%S\"],\n",
    "    [\"%Y\", \"%m\", \"%d\", \"%H\", \"%M\", \"%S\"],\n",
    "    [\"%Y\", \"%m\", \"%d\"],\n",
    "]\n",
    "applier_cwise(df_geo, [\"STD\", \"STA\", \"DATOP\"], to_date, orders=date_order)\n",
    "\n",
    "\n",
    "df_geo[\"date_dep_year\"] = df_geo.DATOP.dt.year.astype(int)\n",
    "df_geo[\"date_dep_month\"] = df_geo.DATOP.dt.month.astype(int)\n",
    "df_geo[\"date_dep_day_year\"] = df_geo.DATOP.dt.day_of_year.astype(int)\n",
    "df_geo[\"date_dep_day_week\"] = df_geo.DATOP.dt.day_of_week.astype(int)\n",
    "df_geo[\"date_dep_hour\"] = df_geo.STD.dt.hour.astype(int)\n",
    "df_geo[\"date_dep_minute\"] = df_geo.STD.dt.minute.astype(int)\n",
    "df_geo[\"flight_duration\"] = (\n",
    "    (df_geo.STA - df_geo.STD).astype(\"timedelta64[m]\").astype(int)\n",
    ")\n",
    "df_geo[\"min_of_day\"] = (df_geo.STD.dt.hour * 60 + df_geo.STD.dt.minute).astype(int)"
   ]
  },
  {
   "cell_type": "markdown",
   "metadata": {},
   "source": [
    "## FLIGHT STATUS\n"
   ]
  },
  {
   "cell_type": "code",
   "execution_count": 380,
   "metadata": {},
   "outputs": [
    {
     "data": {
      "text/plain": [
       "<AxesSubplot:xlabel='STATUS', ylabel='target'>"
      ]
     },
     "execution_count": 380,
     "metadata": {},
     "output_type": "execute_result"
    },
    {
     "data": {
      "image/png": "[encoded data removed]",
      "text/plain": [
       "<Figure size 640x480 with 1 Axes>"
      ]
     },
     "metadata": {},
     "output_type": "display_data"
    }
   ],
   "source": [
    "df_geo.STATUS.unique()\n",
    "\n",
    "\n",
    "sns.boxplot(data=df_geo, x=\"STATUS\", y=\"target\", showfliers=False)"
   ]
  },
  {
   "cell_type": "markdown",
   "metadata": {},
   "source": [
    "## FLIGHT ID\n"
   ]
  },
  {
   "cell_type": "markdown",
   "metadata": {},
   "source": [
    "### Airlines from Flight ID\n"
   ]
  },
  {
   "cell_type": "code",
   "execution_count": 381,
   "metadata": {},
   "outputs": [
    {
     "data": {
      "text/plain": [
       "TU     92443\n",
       "UG     9434 \n",
       "WKL    3105 \n",
       "AOG    1103 \n",
       "AT     874  \n",
       "INT    282  \n",
       "A      251  \n",
       "SGT    227  \n",
       "20M    29   \n",
       "C      24   \n",
       "PRO    23   \n",
       "GJT    22   \n",
       "6YE    6    \n",
       "DAT    3    \n",
       "D4     2    \n",
       "UH     2    \n",
       "12Y    1    \n",
       "AUI    1    \n",
       "X9     1    \n",
       "Name: exec_airline, dtype: int64"
      ]
     },
     "execution_count": 381,
     "metadata": {},
     "output_type": "execute_result"
    }
   ],
   "source": [
    "df_geo[\"exec_airline\"] = df_geo.FLTID.str.split().str[0]\n",
    "# df_geo[df_geo.exec_airline != df_geo.owner_airline]\n",
    "df_geo.exec_airline.value_counts()\n"
   ]
  },
  {
   "cell_type": "markdown",
   "metadata": {},
   "source": [
    "## Feature selection\n"
   ]
  },
  {
   "cell_type": "code",
   "execution_count": 382,
   "metadata": {},
   "outputs": [
    {
     "data": {
      "text/plain": [
       "DATOP                0  \n",
       "FLTID                0  \n",
       "DEPSTN               0  \n",
       "ARRSTN               0  \n",
       "STD                  0  \n",
       "STA                  0  \n",
       "STATUS               0  \n",
       "AC                   0  \n",
       "target               0  \n",
       "iata_DEPSTN          332\n",
       "country_DEPSTN       332\n",
       "lat_DEPSTN           332\n",
       "lon_DEPSTN           332\n",
       "elevation_DEPSTN     332\n",
       "iata_ARRSTN          332\n",
       "country_ARRSTN       332\n",
       "lat_ARRSTN           332\n",
       "lon_ARRSTN           332\n",
       "elevation_ARRSTN     332\n",
       "date_dep_year        0  \n",
       "date_dep_month       0  \n",
       "date_dep_day_year    0  \n",
       "date_dep_day_week    0  \n",
       "date_dep_hour        0  \n",
       "date_dep_minute      0  \n",
       "flight_duration      0  \n",
       "min_of_day           0  \n",
       "exec_airline         0  \n",
       "dtype: int64"
      ]
     },
     "execution_count": 382,
     "metadata": {},
     "output_type": "execute_result"
    }
   ],
   "source": [
    "df_geo.isna().sum()"
   ]
  },
  {
   "cell_type": "code",
   "execution_count": 383,
   "metadata": {},
   "outputs": [],
   "source": [
    "df_geo = df_geo.dropna()"
   ]
  },
  {
   "cell_type": "code",
   "execution_count": 384,
   "metadata": {},
   "outputs": [],
   "source": [
    "features = [\n",
    "    \"date_dep_year\",\n",
    "    \"date_dep_month\",\n",
    "    \"date_dep_day_year\",\n",
    "    \"date_dep_day_week\",\n",
    "    \"date_dep_hour\",\n",
    "    \"date_dep_minute\",\n",
    "    \"flight_duration\",\n",
    "    \"lat_DEPSTN\",\n",
    "    \"lon_DEPSTN\",\n",
    "    \"elevation_DEPSTN\",\n",
    "    \"lat_ARRSTN\",\n",
    "    \"lon_ARRSTN\",\n",
    "    \"elevation_ARRSTN\",\n",
    "    \"exec_airline\",\n",
    "    \"STATUS\",\n",
    "]\n",
    "\n",
    "X = df_geo[features]\n",
    "y = df_geo.target\n",
    "\n",
    "\n"
   ]
  },
  {
   "cell_type": "code",
   "execution_count": 385,
   "metadata": {},
   "outputs": [
    {
     "name": "stdout",
     "output_type": "stream",
     "text": [
      "                   date_dep_year  date_dep_month  date_dep_day_year  \\\n",
      "date_dep_year     NaN            -5.63e-02       -6.00e-02            \n",
      "date_dep_month    -5.63e-02      NaN             NaN                  \n",
      "date_dep_day_year -6.00e-02      NaN             NaN                  \n",
      "date_dep_day_week -1.19e-02       5.79e-03        4.99e-03            \n",
      "date_dep_hour      2.37e-03       3.43e-03        3.33e-03            \n",
      "date_dep_minute   -1.32e-03      -1.70e-03       -1.64e-03            \n",
      "flight_duration    3.91e-03      -4.21e-04        2.97e-05            \n",
      "lat_DEPSTN        -1.81e-02       2.80e-02        2.78e-02            \n",
      "lon_DEPSTN         6.11e-03      -3.73e-02       -3.70e-02            \n",
      "elevation_DEPSTN   2.14e-02       7.23e-04        8.85e-04            \n",
      "lat_ARRSTN        -1.85e-02       2.80e-02        2.79e-02            \n",
      "lon_ARRSTN         6.13e-03      -3.70e-02       -3.68e-02            \n",
      "elevation_ARRSTN   2.21e-02       1.50e-03        1.63e-03            \n",
      "\n",
      "                   date_dep_day_week  date_dep_hour  date_dep_minute  \\\n",
      "date_dep_year     -1.19e-02           2.37e-03      -1.32e-03          \n",
      "date_dep_month     5.79e-03           3.43e-03      -1.70e-03          \n",
      "date_dep_day_year  4.99e-03           3.33e-03      -1.64e-03          \n",
      "date_dep_day_week NaN                 1.29e-02       2.64e-02          \n",
      "date_dep_hour      1.29e-02          NaN            -6.31e-02          \n",
      "date_dep_minute    2.64e-02          -6.31e-02      NaN                \n",
      "flight_duration   -2.29e-03          -8.56e-03      -2.21e-02          \n",
      "lat_DEPSTN         3.68e-02           3.67e-02      -3.14e-03          \n",
      "lon_DEPSTN        -1.02e-02          -1.42e-01       2.55e-02          \n",
      "elevation_DEPSTN  -1.82e-02           3.69e-04       4.58e-02          \n",
      "lat_ARRSTN         1.01e-02          -3.06e-01      -1.58e-02          \n",
      "lon_ARRSTN        -2.76e-02           4.71e-02       2.72e-02          \n",
      "elevation_ARRSTN  -5.53e-03          -3.49e-02      -6.23e-02          \n",
      "\n",
      "                   flight_duration  lat_DEPSTN  lon_DEPSTN  elevation_DEPSTN  \\\n",
      "date_dep_year      3.91e-03        -1.81e-02    6.11e-03    2.14e-02           \n",
      "date_dep_month    -4.21e-04         2.80e-02   -3.73e-02    7.23e-04           \n",
      "date_dep_day_year  2.97e-05         2.78e-02   -3.70e-02    8.85e-04           \n",
      "date_dep_day_week -2.29e-03         3.68e-02   -1.02e-02   -1.82e-02           \n",
      "date_dep_hour     -8.56e-03         3.67e-02   -1.42e-01    3.69e-04           \n",
      "date_dep_minute   -2.21e-02        -3.14e-03    2.55e-02    4.58e-02           \n",
      "flight_duration   NaN              -5.25e-03    3.20e-03   -6.44e-03           \n",
      "lat_DEPSTN        -5.25e-03        NaN         -6.84e-02    1.28e-01           \n",
      "lon_DEPSTN         3.20e-03        -6.84e-02   NaN         -1.13e-02           \n",
      "elevation_DEPSTN  -6.44e-03         1.28e-01   -1.13e-02   NaN                 \n",
      "lat_ARRSTN        -5.14e-03         6.37e-02    1.36e-01   -1.72e-01           \n",
      "lon_ARRSTN         2.06e-03         1.32e-01    4.64e-02    4.05e-02           \n",
      "elevation_ARRSTN  -6.59e-03        -1.67e-01    3.77e-02   -1.85e-01           \n",
      "\n",
      "                   lat_ARRSTN  lon_ARRSTN  elevation_ARRSTN  \n",
      "date_dep_year     -1.85e-02    6.13e-03    2.21e-02          \n",
      "date_dep_month     2.80e-02   -3.70e-02    1.50e-03          \n",
      "date_dep_day_year  2.79e-02   -3.68e-02    1.63e-03          \n",
      "date_dep_day_week  1.01e-02   -2.76e-02   -5.53e-03          \n",
      "date_dep_hour     -3.06e-01    4.71e-02   -3.49e-02          \n",
      "date_dep_minute   -1.58e-02    2.72e-02   -6.23e-02          \n",
      "flight_duration   -5.14e-03    2.06e-03   -6.59e-03          \n",
      "lat_DEPSTN         6.37e-02    1.32e-01   -1.67e-01          \n",
      "lon_DEPSTN         1.36e-01    4.64e-02    3.77e-02          \n",
      "elevation_DEPSTN  -1.72e-01    4.05e-02   -1.85e-01          \n",
      "lat_ARRSTN        NaN         -6.86e-02    1.28e-01          \n",
      "lon_ARRSTN        -6.86e-02   NaN         -1.13e-02          \n",
      "elevation_ARRSTN   1.28e-01   -1.13e-02   NaN                \n"
     ]
    },
    {
     "data": {
      "text/plain": [
       "<AxesSubplot:>"
      ]
     },
     "execution_count": 385,
     "metadata": {},
     "output_type": "execute_result"
    },
    {
     "data": {
      "image/png": "[encoded data removed]",
      "text/plain": [
       "<Figure size 1100x900 with 2 Axes>"
      ]
     },
     "metadata": {},
     "output_type": "display_data"
    }
   ],
   "source": [
    "#correlation\n",
    "corr = X.corr()\n",
    "print(corr[abs(corr)<0.5])\n",
    "# Generate a mask for the upper triangle\n",
    "mask = np.triu(np.ones_like(corr, dtype=bool))\n",
    "\n",
    "# Set up the matplotlib figure\n",
    "f, ax = plt.subplots(figsize=(11, 9))\n",
    "\n",
    "# Generate a custom diverging colormap\n",
    "cmap = sns.diverging_palette(230, 20, as_cmap=True)\n",
    "\n",
    "# Draw the heatmap with the mask and correct aspect ratio\n",
    "sns.heatmap(corr[abs(corr)>0.3], mask=mask, cmap=cmap, vmax=1, center=0, vmin=-1,\n",
    "            square=True, linewidths=.5,) #cbar_kws={\"shrink\": .5})\n"
   ]
  },
  {
   "cell_type": "code",
   "execution_count": 386,
   "metadata": {},
   "outputs": [],
   "source": [
    "X_train, X_test, y_train, y_test = train_test_split(\n",
    "    X, y, test_size=0.15, random_state=42\n",
    "    \n",
    ")\n",
    "def OneHot(X_train = X_train, X_test = X_test, column = 'STATUS', drop=\"first\", handle_unknown=\"ignore\", sparse=False):\n",
    "    onehot = OneHotEncoder(drop=\"first\", handle_unknown=\"ignore\", sparse=False)\n",
    "\n",
    "    STATUS_onehot_train = onehot.fit_transform(X_train[column].to_numpy().reshape(-1, 1))\n",
    "    STATUS_onehot_df_train = pd.DataFrame(STATUS_onehot_train,columns=[column + '_' + x for x in onehot.categories_[0][1:]])\n",
    "\n",
    "\n",
    "    STATUS_onehot_test = onehot.transform(X_test[column].to_numpy().reshape(-1, 1))\n",
    "    STATUS_onehot_df_test = pd.DataFrame(STATUS_onehot_test,columns=[column + '_' + x for x in onehot.categories_[0][1:]])\n",
    "\n",
    "\n",
    "\n",
    "    X_train = pd.concat([X_train, STATUS_onehot_df_train.set_index(X_train.index)], axis = 1)\n",
    "    X_test = pd.concat([X_test, STATUS_onehot_df_test.set_index(X_test.index)], axis = 1)\n",
    "\n",
    "    X_train.drop(column, axis = 1, inplace = True)\n",
    "    X_test.drop(column, axis = 1, inplace = True)\n",
    "    return X_train, X_test"
   ]
  },
  {
   "cell_type": "code",
   "execution_count": 387,
   "metadata": {},
   "outputs": [],
   "source": [
    "X_train, X_test = OneHot(X_train = X_train, X_test = X_test, column= 'STATUS')\n",
    "\n"
   ]
  },
  {
   "cell_type": "code",
   "execution_count": 388,
   "metadata": {},
   "outputs": [
    {
     "ename": "ValueError",
     "evalue": "could not convert string to float: 'TU'",
     "output_type": "error",
     "traceback": [
      "\u001b[0;31m---------------------------------------------------------------------------\u001b[0m",
      "\u001b[0;31mValueError\u001b[0m                                Traceback (most recent call last)",
      "Cell \u001b[0;32mIn [388], line 3\u001b[0m\n\u001b[1;32m      1\u001b[0m scaler \u001b[39m=\u001b[39m MinMaxScaler()\n\u001b[0;32m----> 3\u001b[0m X_train \u001b[39m=\u001b[39m pd\u001b[39m.\u001b[39mDataFrame(scaler\u001b[39m.\u001b[39;49mfit_transform(X_train), columns\u001b[39m=\u001b[39mX_train\u001b[39m.\u001b[39mcolumns)\n\u001b[1;32m      4\u001b[0m X_test \u001b[39m=\u001b[39m pd\u001b[39m.\u001b[39mDataFrame(scaler\u001b[39m.\u001b[39mtransform(X_test), columns\u001b[39m=\u001b[39mX_test\u001b[39m.\u001b[39mcolumns)\n",
      "File \u001b[0;32m~/neuefische/Flight_Delay_Prediction/.venv/lib/python3.9/site-packages/sklearn/base.py:852\u001b[0m, in \u001b[0;36mTransformerMixin.fit_transform\u001b[0;34m(self, X, y, **fit_params)\u001b[0m\n\u001b[1;32m    848\u001b[0m \u001b[39m# non-optimized default implementation; override when a better\u001b[39;00m\n\u001b[1;32m    849\u001b[0m \u001b[39m# method is possible for a given clustering algorithm\u001b[39;00m\n\u001b[1;32m    850\u001b[0m \u001b[39mif\u001b[39;00m y \u001b[39mis\u001b[39;00m \u001b[39mNone\u001b[39;00m:\n\u001b[1;32m    851\u001b[0m     \u001b[39m# fit method of arity 1 (unsupervised transformation)\u001b[39;00m\n\u001b[0;32m--> 852\u001b[0m     \u001b[39mreturn\u001b[39;00m \u001b[39mself\u001b[39;49m\u001b[39m.\u001b[39;49mfit(X, \u001b[39m*\u001b[39;49m\u001b[39m*\u001b[39;49mfit_params)\u001b[39m.\u001b[39mtransform(X)\n\u001b[1;32m    853\u001b[0m \u001b[39melse\u001b[39;00m:\n\u001b[1;32m    854\u001b[0m     \u001b[39m# fit method of arity 2 (supervised transformation)\u001b[39;00m\n\u001b[1;32m    855\u001b[0m     \u001b[39mreturn\u001b[39;00m \u001b[39mself\u001b[39m\u001b[39m.\u001b[39mfit(X, y, \u001b[39m*\u001b[39m\u001b[39m*\u001b[39mfit_params)\u001b[39m.\u001b[39mtransform(X)\n",
      "File \u001b[0;32m~/neuefische/Flight_Delay_Prediction/.venv/lib/python3.9/site-packages/sklearn/preprocessing/_data.py:416\u001b[0m, in \u001b[0;36mMinMaxScaler.fit\u001b[0;34m(self, X, y)\u001b[0m\n\u001b[1;32m    414\u001b[0m \u001b[39m# Reset internal state before fitting\u001b[39;00m\n\u001b[1;32m    415\u001b[0m \u001b[39mself\u001b[39m\u001b[39m.\u001b[39m_reset()\n\u001b[0;32m--> 416\u001b[0m \u001b[39mreturn\u001b[39;00m \u001b[39mself\u001b[39;49m\u001b[39m.\u001b[39;49mpartial_fit(X, y)\n",
      "File \u001b[0;32m~/neuefische/Flight_Delay_Prediction/.venv/lib/python3.9/site-packages/sklearn/preprocessing/_data.py:453\u001b[0m, in \u001b[0;36mMinMaxScaler.partial_fit\u001b[0;34m(self, X, y)\u001b[0m\n\u001b[1;32m    447\u001b[0m     \u001b[39mraise\u001b[39;00m \u001b[39mTypeError\u001b[39;00m(\n\u001b[1;32m    448\u001b[0m         \u001b[39m\"\u001b[39m\u001b[39mMinMaxScaler does not support sparse input. \u001b[39m\u001b[39m\"\u001b[39m\n\u001b[1;32m    449\u001b[0m         \u001b[39m\"\u001b[39m\u001b[39mConsider using MaxAbsScaler instead.\u001b[39m\u001b[39m\"\u001b[39m\n\u001b[1;32m    450\u001b[0m     )\n\u001b[1;32m    452\u001b[0m first_pass \u001b[39m=\u001b[39m \u001b[39mnot\u001b[39;00m \u001b[39mhasattr\u001b[39m(\u001b[39mself\u001b[39m, \u001b[39m\"\u001b[39m\u001b[39mn_samples_seen_\u001b[39m\u001b[39m\"\u001b[39m)\n\u001b[0;32m--> 453\u001b[0m X \u001b[39m=\u001b[39m \u001b[39mself\u001b[39;49m\u001b[39m.\u001b[39;49m_validate_data(\n\u001b[1;32m    454\u001b[0m     X,\n\u001b[1;32m    455\u001b[0m     reset\u001b[39m=\u001b[39;49mfirst_pass,\n\u001b[1;32m    456\u001b[0m     estimator\u001b[39m=\u001b[39;49m\u001b[39mself\u001b[39;49m,\n\u001b[1;32m    457\u001b[0m     dtype\u001b[39m=\u001b[39;49mFLOAT_DTYPES,\n\u001b[1;32m    458\u001b[0m     force_all_finite\u001b[39m=\u001b[39;49m\u001b[39m\"\u001b[39;49m\u001b[39mallow-nan\u001b[39;49m\u001b[39m\"\u001b[39;49m,\n\u001b[1;32m    459\u001b[0m )\n\u001b[1;32m    461\u001b[0m data_min \u001b[39m=\u001b[39m np\u001b[39m.\u001b[39mnanmin(X, axis\u001b[39m=\u001b[39m\u001b[39m0\u001b[39m)\n\u001b[1;32m    462\u001b[0m data_max \u001b[39m=\u001b[39m np\u001b[39m.\u001b[39mnanmax(X, axis\u001b[39m=\u001b[39m\u001b[39m0\u001b[39m)\n",
      "File \u001b[0;32m~/neuefische/Flight_Delay_Prediction/.venv/lib/python3.9/site-packages/sklearn/base.py:566\u001b[0m, in \u001b[0;36mBaseEstimator._validate_data\u001b[0;34m(self, X, y, reset, validate_separately, **check_params)\u001b[0m\n\u001b[1;32m    564\u001b[0m     \u001b[39mraise\u001b[39;00m \u001b[39mValueError\u001b[39;00m(\u001b[39m\"\u001b[39m\u001b[39mValidation should be done on X, y or both.\u001b[39m\u001b[39m\"\u001b[39m)\n\u001b[1;32m    565\u001b[0m \u001b[39melif\u001b[39;00m \u001b[39mnot\u001b[39;00m no_val_X \u001b[39mand\u001b[39;00m no_val_y:\n\u001b[0;32m--> 566\u001b[0m     X \u001b[39m=\u001b[39m check_array(X, \u001b[39m*\u001b[39;49m\u001b[39m*\u001b[39;49mcheck_params)\n\u001b[1;32m    567\u001b[0m     out \u001b[39m=\u001b[39m X\n\u001b[1;32m    568\u001b[0m \u001b[39melif\u001b[39;00m no_val_X \u001b[39mand\u001b[39;00m \u001b[39mnot\u001b[39;00m no_val_y:\n",
      "File \u001b[0;32m~/neuefische/Flight_Delay_Prediction/.venv/lib/python3.9/site-packages/sklearn/utils/validation.py:746\u001b[0m, in \u001b[0;36mcheck_array\u001b[0;34m(array, accept_sparse, accept_large_sparse, dtype, order, copy, force_all_finite, ensure_2d, allow_nd, ensure_min_samples, ensure_min_features, estimator)\u001b[0m\n\u001b[1;32m    744\u001b[0m         array \u001b[39m=\u001b[39m array\u001b[39m.\u001b[39mastype(dtype, casting\u001b[39m=\u001b[39m\u001b[39m\"\u001b[39m\u001b[39munsafe\u001b[39m\u001b[39m\"\u001b[39m, copy\u001b[39m=\u001b[39m\u001b[39mFalse\u001b[39;00m)\n\u001b[1;32m    745\u001b[0m     \u001b[39melse\u001b[39;00m:\n\u001b[0;32m--> 746\u001b[0m         array \u001b[39m=\u001b[39m np\u001b[39m.\u001b[39;49masarray(array, order\u001b[39m=\u001b[39;49morder, dtype\u001b[39m=\u001b[39;49mdtype)\n\u001b[1;32m    747\u001b[0m \u001b[39mexcept\u001b[39;00m ComplexWarning \u001b[39mas\u001b[39;00m complex_warning:\n\u001b[1;32m    748\u001b[0m     \u001b[39mraise\u001b[39;00m \u001b[39mValueError\u001b[39;00m(\n\u001b[1;32m    749\u001b[0m         \u001b[39m\"\u001b[39m\u001b[39mComplex data not supported\u001b[39m\u001b[39m\\n\u001b[39;00m\u001b[39m{}\u001b[39;00m\u001b[39m\\n\u001b[39;00m\u001b[39m\"\u001b[39m\u001b[39m.\u001b[39mformat(array)\n\u001b[1;32m    750\u001b[0m     ) \u001b[39mfrom\u001b[39;00m \u001b[39mcomplex_warning\u001b[39;00m\n",
      "File \u001b[0;32m~/neuefische/Flight_Delay_Prediction/.venv/lib/python3.9/site-packages/pandas/core/generic.py:1993\u001b[0m, in \u001b[0;36mNDFrame.__array__\u001b[0;34m(self, dtype)\u001b[0m\n\u001b[1;32m   1992\u001b[0m \u001b[39mdef\u001b[39;00m \u001b[39m__array__\u001b[39m(\u001b[39mself\u001b[39m, dtype: NpDtype \u001b[39m|\u001b[39m \u001b[39mNone\u001b[39;00m \u001b[39m=\u001b[39m \u001b[39mNone\u001b[39;00m) \u001b[39m-\u001b[39m\u001b[39m>\u001b[39m np\u001b[39m.\u001b[39mndarray:\n\u001b[0;32m-> 1993\u001b[0m     \u001b[39mreturn\u001b[39;00m np\u001b[39m.\u001b[39;49masarray(\u001b[39mself\u001b[39;49m\u001b[39m.\u001b[39;49m_values, dtype\u001b[39m=\u001b[39;49mdtype)\n",
      "\u001b[0;31mValueError\u001b[0m: could not convert string to float: 'TU'"
     ]
    }
   ],
   "source": [
    "scaler = MinMaxScaler()\n",
    "\n",
    "X_train = pd.DataFrame(scaler.fit_transform(X_train), columns=X_train.columns)\n",
    "X_test = pd.DataFrame(scaler.transform(X_test), columns=X_test.columns)\n"
   ]
  },
  {
   "cell_type": "code",
   "execution_count": null,
   "metadata": {},
   "outputs": [
    {
     "data": {
      "text/plain": [
       "2074      25.0 \n",
       "107629    0.0  \n",
       "89990     42.0 \n",
       "67515     0.0  \n",
       "24994     48.0 \n",
       "          ...  \n",
       "55259     190.0\n",
       "77308     0.0  \n",
       "104355    0.0  \n",
       "867       30.0 \n",
       "15918     30.0 \n",
       "Name: target, Length: 91096, dtype: float64"
      ]
     },
     "execution_count": 247,
     "metadata": {},
     "output_type": "execute_result"
    }
   ],
   "source": [
    "y_train"
   ]
  },
  {
   "cell_type": "code",
   "execution_count": null,
   "metadata": {},
   "outputs": [],
   "source": [
    "lin_reg = LinearRegression()\n"
   ]
  },
  {
   "cell_type": "code",
   "execution_count": null,
   "metadata": {},
   "outputs": [
    {
     "data": {
      "text/plain": [
       "LinearRegression()"
      ]
     },
     "execution_count": 287,
     "metadata": {},
     "output_type": "execute_result"
    }
   ],
   "source": [
    "lin_reg.fit(X_train, y_train)"
   ]
  },
  {
   "cell_type": "code",
   "execution_count": null,
   "metadata": {},
   "outputs": [
    {
     "name": "stdout",
     "output_type": "stream",
     "text": [
      "('exec_airline_X9', -117.13120378253977)\n",
      "('exec_airline_D4', -97.40736017661186)\n",
      "('exec_airline_GJT', -80.26919367486252)\n",
      "('STATUS_DEL', -54.597778174144175)\n",
      "('exec_airline_WKL', -54.04040738260063)\n",
      "('exec_airline_INT', -52.431793725779585)\n",
      "('STATUS_SCH', -51.88191588704749)\n",
      "('exec_airline_AT', -49.38801849894065)\n",
      "('exec_airline_PRO', -45.064972536085364)\n",
      "('exec_airline_UG', -44.96384075698877)\n",
      "('exec_airline_AOG', -43.96806808033335)\n",
      "('exec_airline_UH', -43.12809869726592)\n",
      "('exec_airline_TU', -39.61424502932392)\n",
      "('lat_DEPSTN', -38.86636613963347)\n",
      "('exec_airline_SGT', -36.95609543181956)\n",
      "('exec_airline_C', -36.748649881783436)\n",
      "('exec_airline_A', -36.451444874701146)\n",
      "('exec_airline_20M', -26.190368427079598)\n",
      "('exec_airline_6YE', -24.88257799297281)\n",
      "('lat_ARRSTN', -10.649341461297889)\n",
      "('STATUS_DEP', -5.003556041333183)\n",
      "('elevation_ARRSTN', -4.195786719893487)\n",
      "('date_dep_day_year', -2.547779122327147)\n",
      "('date_dep_day_week', 9.905072556110635)\n",
      "('date_dep_month', 10.981530800343457)\n",
      "('date_dep_minute', 11.522335979082856)\n",
      "('lon_DEPSTN', 17.244979854305793)\n",
      "('flight_duration', 20.37126853012543)\n",
      "('date_dep_year', 22.839852495829575)\n",
      "('STATUS_RTR', 25.739500712880826)\n",
      "('elevation_DEPSTN', 26.437392741372697)\n",
      "('lon_ARRSTN', 28.187338081606406)\n",
      "('date_dep_hour', 47.163479919114984)\n",
      "('exec_airline_DAT', 97.7787409705248)\n"
     ]
    }
   ],
   "source": [
    "import matplotlib.pyplot as plt\n",
    "# fig,ax = plt.subplots()\n",
    "# fig.set_size_inches(18.5, 10.5)\n",
    "# plt.bar(X_train.columns.tolist(), lin_reg.coef_)\n",
    "# plt.xticks(rotation=90)\n",
    "\n",
    "print(*sorted(list(zip(X_train.columns.tolist(), lin_reg.coef_)),key = lambda x: x[1]), sep = '\\n')"
   ]
  },
  {
   "cell_type": "code",
   "execution_count": null,
   "metadata": {},
   "outputs": [],
   "source": [
    "y_train_pred = lin_reg.predict(X_train)\n",
    "y_test_pred = lin_reg.predict(X_test)"
   ]
  },
  {
   "cell_type": "code",
   "execution_count": null,
   "metadata": {},
   "outputs": [],
   "source": [
    "rmse_linreg_test = mean_squared_error(y_test,y_test_pred, squared=False)\n",
    "r2_linreg_test = r2_score(y_test,y_test_pred)\n",
    "rmse_linreg_train = mean_squared_error(y_train,y_train_pred, squared=False)\n",
    "r2_linreg_train = r2_score(y_train,y_train_pred)"
   ]
  },
  {
   "cell_type": "code",
   "execution_count": null,
   "metadata": {},
   "outputs": [
    {
     "name": "stdout",
     "output_type": "stream",
     "text": [
      "LINREGSCORES\n",
      "TRAIN SCORE\n",
      "RMSE: 114.6784661583737\n",
      "r2: 0.04323318918779917\n",
      "\n",
      "TEST SCORE\n",
      "RMSE: 110.06662833462664\n",
      "r2: 0.047386217931842944\n"
     ]
    }
   ],
   "source": [
    "print('LINREGSCORES')\n",
    "print('TRAIN SCORE')\n",
    "print(f'RMSE: {rmse_linreg_train}')\n",
    "print(f'r2: {r2_linreg_train}')\n",
    "print()\n",
    "print('TEST SCORE')\n",
    "print(f'RMSE: {rmse_linreg_test}')\n",
    "print(f'r2: {r2_linreg_test}')"
   ]
  },
  {
   "cell_type": "code",
   "execution_count": null,
   "metadata": {},
   "outputs": [],
   "source": [
    "poly = PolynomialFeatures(interaction_only = True)\n",
    "X_train_poly = poly.fit_transform(X_train)\n",
    "X_test_poly = poly.transform(X_test)\n",
    "\n"
   ]
  },
  {
   "cell_type": "code",
   "execution_count": null,
   "metadata": {},
   "outputs": [
    {
     "data": {
      "text/plain": [
       "LinearRegression()"
      ]
     },
     "execution_count": 254,
     "metadata": {},
     "output_type": "execute_result"
    }
   ],
   "source": [
    "lin_reg.fit(X_train_poly, y_train)"
   ]
  },
  {
   "cell_type": "code",
   "execution_count": null,
   "metadata": {},
   "outputs": [],
   "source": [
    "y_train_pred = lin_reg.predict(X_train_poly)\n",
    "y_test_pred = lin_reg.predict(X_test_poly)"
   ]
  },
  {
   "cell_type": "code",
   "execution_count": null,
   "metadata": {},
   "outputs": [],
   "source": [
    "rmse_linreg_test = mean_squared_error(y_test,y_test_pred, squared=False)\n",
    "r2_linreg_test = r2_score(y_test,y_test_pred)\n",
    "rmse_linreg_train = mean_squared_error(y_train,y_train_pred, squared=False)\n",
    "r2_linreg_train = r2_score(y_train,y_train_pred)"
   ]
  },
  {
   "cell_type": "code",
   "execution_count": null,
   "metadata": {},
   "outputs": [
    {
     "name": "stdout",
     "output_type": "stream",
     "text": [
      "LINREGSCORES with Polyfeatures\n",
      "TRAIN SCORE\n",
      "RMSE: 113.66477898999283\n",
      "r2: 0.06007289377231917\n",
      "\n",
      "TEST SCORE\n",
      "RMSE: 242658857032.5558\n",
      "r2: -4.630179521633289e+18\n"
     ]
    }
   ],
   "source": [
    "print('LINREGSCORES with Polyfeatures')\n",
    "print('TRAIN SCORE')\n",
    "print(f'RMSE: {rmse_linreg_train}')\n",
    "print(f'r2: {r2_linreg_train}')\n",
    "print()\n",
    "print('TEST SCORE')\n",
    "print(f'RMSE: {rmse_linreg_test}')\n",
    "print(f'r2: {r2_linreg_test}')"
   ]
  },
  {
   "cell_type": "code",
   "execution_count": null,
   "metadata": {},
   "outputs": [],
   "source": [
    "from xgboost import XGBRegressor\n",
    "\n",
    "xgb_model = XGBRegressor()\n",
    "\n",
    "feat_train = X_train\n",
    "tar_train = y_train\n",
    "feat_test = X_test\n",
    "tar_test = y_test\n",
    "\n",
    "\n",
    "xgb_model.fit(feat_train,tar_train)\n",
    "\n",
    "y_test_pred = xgb_model.predict(feat_test)\n",
    "y_train_pred = xgb_model.predict(feat_train)\n",
    "\n",
    "rmse_xgb_test = mean_squared_error(tar_test,y_test_pred, squared=False)\n",
    "r2_xgb_test = r2_score(tar_test,y_test_pred)\n",
    "rmse_xgb_train = mean_squared_error(tar_train,y_train_pred, squared=False)\n",
    "r2_xgb_train = r2_score(tar_train,y_train_pred)\n"
   ]
  },
  {
   "cell_type": "code",
   "execution_count": 267,
   "metadata": {},
   "outputs": [
    {
     "name": "stdout",
     "output_type": "stream",
     "text": [
      "XGB Scores \n",
      "TRAIN SCORE\n",
      "RMSE: 94.02532601335824\n",
      "r2: 0.3568207181453654\n",
      "\n",
      "TEST SCORE\n",
      "RMSE: 104.81079128243987\n",
      "r2: 0.13619137910849932\n"
     ]
    }
   ],
   "source": [
    "print('XGB Scores ')\n",
    "print('TRAIN SCORE')\n",
    "print(f'RMSE: {rmse_xgb_train}')\n",
    "print(f'r2: {r2_xgb_train}')\n",
    "print()\n",
    "print('TEST SCORE')\n",
    "print(f'RMSE: {rmse_xgb_test}')\n",
    "print(f'r2: {r2_xgb_test}')"
   ]
  },
  {
   "cell_type": "markdown",
   "metadata": {},
   "source": [
    "### Grid search with xgb"
   ]
  },
  {
   "cell_type": "code",
   "execution_count": 275,
   "metadata": {},
   "outputs": [],
   "source": [
    "from sklearn.model_selection import RandomizedSearchCV\n",
    "\n",
    "\n",
    "param_grid = {\n",
    "    'n_estimators': [100, 500],\n",
    "    'max_depth': [5,7,9],\n",
    "    'max_leaves': [10,25],\n",
    "    'learning_rate': [.001, 0.01]\n",
    "\n",
    "}\n",
    "\n",
    "estimator  = XGBRegressor()\n",
    "\n",
    "gs = RandomizedSearchCV(estimator, param_grid, n_jobs = 3, \n",
    "                        scoring = 'neg_root_mean_squared_error', cv = 3, verbose = 5)"
   ]
  },
  {
   "cell_type": "code",
   "execution_count": 276,
   "metadata": {},
   "outputs": [
    {
     "name": "stdout",
     "output_type": "stream",
     "text": [
      "Fitting 3 folds for each of 10 candidates, totalling 30 fits\n",
      "[CV 3/3] END learning_rate=0.01, max_depth=7, max_leaves=25, n_estimators=100;, score=-117.779 total time=   7.0s\n",
      "[CV 2/3] END learning_rate=0.01, max_depth=7, max_leaves=25, n_estimators=100;, score=-112.892 total time=   7.1s\n",
      "[CV 1/3] END learning_rate=0.01, max_depth=7, max_leaves=25, n_estimators=100;, score=-112.138 total time=   7.3s\n",
      "[CV 1/3] END learning_rate=0.001, max_depth=7, max_leaves=25, n_estimators=500;, score=-115.897 total time=  29.7s\n",
      "[CV 3/3] END learning_rate=0.001, max_depth=7, max_leaves=25, n_estimators=500;, score=-121.320 total time=  30.0s\n",
      "[CV 2/3] END learning_rate=0.001, max_depth=7, max_leaves=25, n_estimators=500;, score=-116.563 total time=  30.7s\n",
      "[CV 1/3] END learning_rate=0.001, max_depth=9, max_leaves=25, n_estimators=500;, score=-115.203 total time=  40.8s\n",
      "[CV 2/3] END learning_rate=0.001, max_depth=9, max_leaves=25, n_estimators=500;, score=-116.103 total time=  41.2s\n",
      "[CV 3/3] END learning_rate=0.001, max_depth=9, max_leaves=25, n_estimators=500;, score=-120.894 total time=  41.3s\n",
      "[CV 1/3] END learning_rate=0.001, max_depth=7, max_leaves=10, n_estimators=100;, score=-122.301 total time=   5.6s\n",
      "[CV 2/3] END learning_rate=0.001, max_depth=7, max_leaves=10, n_estimators=100;, score=-122.890 total time=   5.9s\n",
      "[CV 3/3] END learning_rate=0.001, max_depth=7, max_leaves=10, n_estimators=100;, score=-127.594 total time=   6.2s\n",
      "[CV 1/3] END learning_rate=0.01, max_depth=9, max_leaves=10, n_estimators=100;, score=-111.157 total time=   9.6s\n",
      "[CV 2/3] END learning_rate=0.01, max_depth=9, max_leaves=10, n_estimators=100;, score=-112.239 total time=   9.7s\n",
      "[CV 3/3] END learning_rate=0.01, max_depth=9, max_leaves=10, n_estimators=100;, score=-117.167 total time=  10.3s\n",
      "[CV 1/3] END learning_rate=0.001, max_depth=5, max_leaves=25, n_estimators=100;, score=-122.495 total time=   4.9s\n",
      "[CV 2/3] END learning_rate=0.001, max_depth=5, max_leaves=25, n_estimators=100;, score=-123.031 total time=   4.8s\n",
      "[CV 3/3] END learning_rate=0.001, max_depth=5, max_leaves=25, n_estimators=100;, score=-127.784 total time=   4.1s\n",
      "[CV 1/3] END learning_rate=0.01, max_depth=9, max_leaves=25, n_estimators=500;, score=-107.923 total time=  39.9s\n",
      "[CV 2/3] END learning_rate=0.01, max_depth=9, max_leaves=25, n_estimators=500;, score=-109.372 total time=  39.3s\n",
      "[CV 3/3] END learning_rate=0.01, max_depth=9, max_leaves=25, n_estimators=500;, score=-114.427 total time=  39.4s\n",
      "[CV 1/3] END learning_rate=0.001, max_depth=9, max_leaves=10, n_estimators=500;, score=-115.203 total time=  42.4s\n",
      "[CV 2/3] END learning_rate=0.001, max_depth=9, max_leaves=10, n_estimators=500;, score=-116.103 total time=  42.4s\n",
      "[CV 3/3] END learning_rate=0.001, max_depth=9, max_leaves=10, n_estimators=500;, score=-120.894 total time=  43.2s\n",
      "[CV 1/3] END learning_rate=0.01, max_depth=5, max_leaves=25, n_estimators=100;, score=-113.061 total time=   4.1s\n",
      "[CV 2/3] END learning_rate=0.01, max_depth=5, max_leaves=25, n_estimators=100;, score=-113.668 total time=   4.3s\n",
      "[CV 3/3] END learning_rate=0.01, max_depth=5, max_leaves=25, n_estimators=100;, score=-118.743 total time=   4.2s\n",
      "[CV 1/3] END learning_rate=0.01, max_depth=7, max_leaves=10, n_estimators=500;, score=-107.777 total time=  35.7s\n",
      "[CV 2/3] END learning_rate=0.01, max_depth=7, max_leaves=10, n_estimators=500;, score=-109.368 total time=  35.9s\n",
      "[CV 3/3] END learning_rate=0.01, max_depth=7, max_leaves=10, n_estimators=500;, score=-114.031 total time=  35.2s\n"
     ]
    },
    {
     "data": {
      "text/plain": [
       "RandomizedSearchCV(cv=3,\n",
       "                   estimator=XGBRegressor(base_score=None, booster=None,\n",
       "                                          callbacks=None,\n",
       "                                          colsample_bylevel=None,\n",
       "                                          colsample_bynode=None,\n",
       "                                          colsample_bytree=None,\n",
       "                                          early_stopping_rounds=None,\n",
       "                                          enable_categorical=False,\n",
       "                                          eval_metric=None, gamma=None,\n",
       "                                          gpu_id=None, grow_policy=None,\n",
       "                                          importance_type=None,\n",
       "                                          interaction_constraints=None,\n",
       "                                          learning_rate=None, max_bin=None,\n",
       "                                          m...\n",
       "                                          min_child_weight=None, missing=nan,\n",
       "                                          monotone_constraints=None,\n",
       "                                          n_estimators=100, n_jobs=None,\n",
       "                                          num_parallel_tree=None,\n",
       "                                          predictor=None, random_state=None,\n",
       "                                          reg_alpha=None, reg_lambda=None, ...),\n",
       "                   n_jobs=3,\n",
       "                   param_distributions={'learning_rate': [0.001, 0.01],\n",
       "                                        'max_depth': [5, 7, 9],\n",
       "                                        'max_leaves': [10, 25],\n",
       "                                        'n_estimators': [100, 500]},\n",
       "                   scoring='neg_root_mean_squared_error', verbose=5)"
      ]
     },
     "execution_count": 276,
     "metadata": {},
     "output_type": "execute_result"
    }
   ],
   "source": [
    "gs.fit(X_train,y_train)"
   ]
  },
  {
   "cell_type": "code",
   "execution_count": 281,
   "metadata": {},
   "outputs": [],
   "source": [
    "y_test_pred = gs.best_estimator_.predict(X_test)\n",
    "y_train_pred = gs.best_estimator_.predict(X_train)"
   ]
  },
  {
   "cell_type": "code",
   "execution_count": 282,
   "metadata": {},
   "outputs": [],
   "source": [
    "rmse_xgb_test = mean_squared_error(tar_test,y_test_pred, squared=False)\n",
    "r2_xgb_test = r2_score(tar_test,y_test_pred)\n",
    "rmse_xgb_train = mean_squared_error(tar_train,y_train_pred, squared=False)\n",
    "r2_xgb_train = r2_score(tar_train,y_train_pred)\n"
   ]
  },
  {
   "cell_type": "code",
   "execution_count": 283,
   "metadata": {},
   "outputs": [
    {
     "name": "stdout",
     "output_type": "stream",
     "text": [
      "XGB Scores \n",
      "TRAIN SCORE\n",
      "RMSE: 103.55278690282685\n",
      "r2: 0.2198718780239416\n",
      "\n",
      "TEST SCORE\n",
      "RMSE: 104.91104202153342\n",
      "r2: 0.13453813583978536\n"
     ]
    }
   ],
   "source": [
    "print('XGB Scores ')\n",
    "print('TRAIN SCORE')\n",
    "print(f'RMSE: {rmse_xgb_train}')\n",
    "print(f'r2: {r2_xgb_train}')\n",
    "print()\n",
    "print('TEST SCORE')\n",
    "print(f'RMSE: {rmse_xgb_test}')\n",
    "print(f'r2: {r2_xgb_test}')"
   ]
  },
  {
   "cell_type": "markdown",
   "metadata": {},
   "source": [
    "## choose less features"
   ]
  },
  {
   "cell_type": "code",
   "execution_count": 389,
   "metadata": {},
   "outputs": [
    {
     "name": "stderr",
     "output_type": "stream",
     "text": [
      "/var/folders/5z/wvdyq1hd6t7601xb2n5v_m880000gn/T/ipykernel_2667/1390453627.py:16: SettingWithCopyWarning: \n",
      "A value is trying to be set on a copy of a slice from a DataFrame.\n",
      "Try using .loc[row_indexer,col_indexer] = value instead\n",
      "\n",
      "See the caveats in the documentation: https://pandas.pydata.org/pandas-docs/stable/user_guide/indexing.html#returning-a-view-versus-a-copy\n",
      "  X_less['exec_airline'] = np.where(X_less['exec_airline'] == 'TU', 1, 0)\n"
     ]
    }
   ],
   "source": [
    "features_small = [\n",
    "    \"date_dep_day_year\",\n",
    "    \"date_dep_day_week\",\n",
    "    \"min_of_day\",\n",
    "    \"flight_duration\",\n",
    "    \"lat_DEPSTN\",\n",
    "    \"lon_DEPSTN\",\n",
    "    \"lat_ARRSTN\",\n",
    "    \"lon_ARRSTN\",\n",
    "    \"exec_airline\", #is Tunesian Airline Yes/No\n",
    "    \"STATUS\",\n",
    "]\n",
    "\n",
    "X_less = df_geo[features_small]\n",
    "y_less = df_geo.target\n",
    "X_less['exec_airline'] = np.where(X_less['exec_airline'] == 'TU', 1, 0)"
   ]
  },
  {
   "cell_type": "code",
   "execution_count": 390,
   "metadata": {},
   "outputs": [
    {
     "data": {
      "text/html": [
       "<div>\n",
       "<style scoped>\n",
       "    .dataframe tbody tr th:only-of-type {\n",
       "        vertical-align: middle;\n",
       "    }\n",
       "\n",
       "    .dataframe tbody tr th {\n",
       "        vertical-align: top;\n",
       "    }\n",
       "\n",
       "    .dataframe thead th {\n",
       "        text-align: right;\n",
       "    }\n",
       "</style>\n",
       "<table border=\"1\" class=\"dataframe\">\n",
       "  <thead>\n",
       "    <tr style=\"text-align: right;\">\n",
       "      <th></th>\n",
       "      <th>date_dep_day_year</th>\n",
       "      <th>date_dep_day_week</th>\n",
       "      <th>min_of_day</th>\n",
       "      <th>flight_duration</th>\n",
       "      <th>lat_DEPSTN</th>\n",
       "      <th>lon_DEPSTN</th>\n",
       "      <th>lat_ARRSTN</th>\n",
       "      <th>lon_ARRSTN</th>\n",
       "      <th>exec_airline</th>\n",
       "      <th>STATUS</th>\n",
       "    </tr>\n",
       "  </thead>\n",
       "  <tbody>\n",
       "    <tr>\n",
       "      <th>0</th>\n",
       "      <td>3</td>\n",
       "      <td>6</td>\n",
       "      <td>630</td>\n",
       "      <td>145</td>\n",
       "      <td>33.37</td>\n",
       "      <td>-7.59</td>\n",
       "      <td>36.85</td>\n",
       "      <td>10.23</td>\n",
       "      <td>1</td>\n",
       "      <td>ATA</td>\n",
       "    </tr>\n",
       "    <tr>\n",
       "      <th>1</th>\n",
       "      <td>13</td>\n",
       "      <td>2</td>\n",
       "      <td>905</td>\n",
       "      <td>110</td>\n",
       "      <td>45.63</td>\n",
       "      <td>8.73</td>\n",
       "      <td>36.85</td>\n",
       "      <td>10.23</td>\n",
       "      <td>1</td>\n",
       "      <td>ATA</td>\n",
       "    </tr>\n",
       "    <tr>\n",
       "      <th>2</th>\n",
       "      <td>16</td>\n",
       "      <td>5</td>\n",
       "      <td>250</td>\n",
       "      <td>155</td>\n",
       "      <td>36.85</td>\n",
       "      <td>10.23</td>\n",
       "      <td>41.28</td>\n",
       "      <td>28.75</td>\n",
       "      <td>1</td>\n",
       "      <td>ATA</td>\n",
       "    </tr>\n",
       "    <tr>\n",
       "      <th>3</th>\n",
       "      <td>17</td>\n",
       "      <td>6</td>\n",
       "      <td>850</td>\n",
       "      <td>170</td>\n",
       "      <td>33.88</td>\n",
       "      <td>10.78</td>\n",
       "      <td>47.15</td>\n",
       "      <td>-1.61</td>\n",
       "      <td>1</td>\n",
       "      <td>ATA</td>\n",
       "    </tr>\n",
       "    <tr>\n",
       "      <th>4</th>\n",
       "      <td>17</td>\n",
       "      <td>6</td>\n",
       "      <td>870</td>\n",
       "      <td>80</td>\n",
       "      <td>36.85</td>\n",
       "      <td>10.23</td>\n",
       "      <td>36.69</td>\n",
       "      <td>3.22</td>\n",
       "      <td>1</td>\n",
       "      <td>ATA</td>\n",
       "    </tr>\n",
       "    <tr>\n",
       "      <th>...</th>\n",
       "      <td>...</td>\n",
       "      <td>...</td>\n",
       "      <td>...</td>\n",
       "      <td>...</td>\n",
       "      <td>...</td>\n",
       "      <td>...</td>\n",
       "      <td>...</td>\n",
       "      <td>...</td>\n",
       "      <td>...</td>\n",
       "      <td>...</td>\n",
       "    </tr>\n",
       "    <tr>\n",
       "      <th>107828</th>\n",
       "      <td>186</td>\n",
       "      <td>3</td>\n",
       "      <td>1380</td>\n",
       "      <td>180</td>\n",
       "      <td>36.85</td>\n",
       "      <td>10.23</td>\n",
       "      <td>36.85</td>\n",
       "      <td>10.23</td>\n",
       "      <td>0</td>\n",
       "      <td>SCH</td>\n",
       "    </tr>\n",
       "    <tr>\n",
       "      <th>107829</th>\n",
       "      <td>13</td>\n",
       "      <td>5</td>\n",
       "      <td>480</td>\n",
       "      <td>60</td>\n",
       "      <td>33.88</td>\n",
       "      <td>10.78</td>\n",
       "      <td>36.85</td>\n",
       "      <td>10.23</td>\n",
       "      <td>0</td>\n",
       "      <td>SCH</td>\n",
       "    </tr>\n",
       "    <tr>\n",
       "      <th>107830</th>\n",
       "      <td>311</td>\n",
       "      <td>2</td>\n",
       "      <td>300</td>\n",
       "      <td>470</td>\n",
       "      <td>36.85</td>\n",
       "      <td>10.23</td>\n",
       "      <td>36.85</td>\n",
       "      <td>10.23</td>\n",
       "      <td>0</td>\n",
       "      <td>SCH</td>\n",
       "    </tr>\n",
       "    <tr>\n",
       "      <th>107831</th>\n",
       "      <td>23</td>\n",
       "      <td>1</td>\n",
       "      <td>1080</td>\n",
       "      <td>45</td>\n",
       "      <td>36.85</td>\n",
       "      <td>10.23</td>\n",
       "      <td>33.88</td>\n",
       "      <td>10.78</td>\n",
       "      <td>0</td>\n",
       "      <td>ATA</td>\n",
       "    </tr>\n",
       "    <tr>\n",
       "      <th>107832</th>\n",
       "      <td>317</td>\n",
       "      <td>1</td>\n",
       "      <td>375</td>\n",
       "      <td>50</td>\n",
       "      <td>36.85</td>\n",
       "      <td>10.23</td>\n",
       "      <td>33.88</td>\n",
       "      <td>10.78</td>\n",
       "      <td>0</td>\n",
       "      <td>SCH</td>\n",
       "    </tr>\n",
       "  </tbody>\n",
       "</table>\n",
       "<p>107172 rows × 10 columns</p>\n",
       "</div>"
      ],
      "text/plain": [
       "        date_dep_day_year  date_dep_day_week  min_of_day  flight_duration  \\\n",
       "0       3                  6                  630         145               \n",
       "1       13                 2                  905         110               \n",
       "2       16                 5                  250         155               \n",
       "3       17                 6                  850         170               \n",
       "4       17                 6                  870         80                \n",
       "...     ..                ..                  ...         ..                \n",
       "107828  186                3                  1380        180               \n",
       "107829  13                 5                  480         60                \n",
       "107830  311                2                  300         470               \n",
       "107831  23                 1                  1080        45                \n",
       "107832  317                1                  375         50                \n",
       "\n",
       "        lat_DEPSTN  lon_DEPSTN  lat_ARRSTN  lon_ARRSTN  exec_airline STATUS  \n",
       "0       33.37      -7.59        36.85       10.23       1             ATA    \n",
       "1       45.63       8.73        36.85       10.23       1             ATA    \n",
       "2       36.85       10.23       41.28       28.75       1             ATA    \n",
       "3       33.88       10.78       47.15      -1.61        1             ATA    \n",
       "4       36.85       10.23       36.69       3.22        1             ATA    \n",
       "...       ...         ...         ...        ...       ..             ...    \n",
       "107828  36.85       10.23       36.85       10.23       0             SCH    \n",
       "107829  33.88       10.78       36.85       10.23       0             SCH    \n",
       "107830  36.85       10.23       36.85       10.23       0             SCH    \n",
       "107831  36.85       10.23       33.88       10.78       0             ATA    \n",
       "107832  36.85       10.23       33.88       10.78       0             SCH    \n",
       "\n",
       "[107172 rows x 10 columns]"
      ]
     },
     "execution_count": 390,
     "metadata": {},
     "output_type": "execute_result"
    }
   ],
   "source": [
    "\n"
   ]
  }
 ],
 "metadata": {
  "kernelspec": {
   "display_name": "Python 3.9.8 ('.venv': venv)",
   "language": "python",
   "name": "python3"
  },
  "language_info": {
   "codemirror_mode": {
    "name": "ipython",
    "version": 3
   },
   "file_extension": ".py",
   "mimetype": "text/x-python",
   "name": "python",
   "nbconvert_exporter": "python",
   "pygments_lexer": "ipython3",
   "version": "3.9.8"
  },
  "orig_nbformat": 4,
  "vscode": {
   "interpreter": {
    "hash": "947dcd14de1ce81ed542fa50b1f9aa0ef983ade9bda0550efe8b01b21d84a3e0"
   }
  }
 },
 "nbformat": 4,
 "nbformat_minor": 2
}
