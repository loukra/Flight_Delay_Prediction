{
 "cells": [
  {
   "cell_type": "markdown",
   "metadata": {},
   "source": [
    "## Data Preprocessing"
   ]
  },
  {
   "cell_type": "code",
   "execution_count": 2,
   "metadata": {},
   "outputs": [
    {
     "data": {
      "text/html": [
       "<div>\n",
       "<style scoped>\n",
       "    .dataframe tbody tr th:only-of-type {\n",
       "        vertical-align: middle;\n",
       "    }\n",
       "\n",
       "    .dataframe tbody tr th {\n",
       "        vertical-align: top;\n",
       "    }\n",
       "\n",
       "    .dataframe thead th {\n",
       "        text-align: right;\n",
       "    }\n",
       "</style>\n",
       "<table border=\"1\" class=\"dataframe\">\n",
       "  <thead>\n",
       "    <tr style=\"text-align: right;\">\n",
       "      <th></th>\n",
       "      <th>ID</th>\n",
       "      <th>DATOP</th>\n",
       "      <th>FLTID</th>\n",
       "      <th>DEPSTN</th>\n",
       "      <th>ARRSTN</th>\n",
       "      <th>STD</th>\n",
       "      <th>STA</th>\n",
       "      <th>STATUS</th>\n",
       "      <th>AC</th>\n",
       "      <th>target</th>\n",
       "    </tr>\n",
       "  </thead>\n",
       "  <tbody>\n",
       "    <tr>\n",
       "      <th>0</th>\n",
       "      <td>train_id_0</td>\n",
       "      <td>2016-01-03</td>\n",
       "      <td>TU 0712</td>\n",
       "      <td>CMN</td>\n",
       "      <td>TUN</td>\n",
       "      <td>2016-01-03 10:30:00</td>\n",
       "      <td>2016-01-03 12.55.00</td>\n",
       "      <td>ATA</td>\n",
       "      <td>TU 32AIMN</td>\n",
       "      <td>260.0</td>\n",
       "    </tr>\n",
       "    <tr>\n",
       "      <th>1</th>\n",
       "      <td>train_id_1</td>\n",
       "      <td>2016-01-13</td>\n",
       "      <td>TU 0757</td>\n",
       "      <td>MXP</td>\n",
       "      <td>TUN</td>\n",
       "      <td>2016-01-13 15:05:00</td>\n",
       "      <td>2016-01-13 16.55.00</td>\n",
       "      <td>ATA</td>\n",
       "      <td>TU 31BIMO</td>\n",
       "      <td>20.0</td>\n",
       "    </tr>\n",
       "    <tr>\n",
       "      <th>2</th>\n",
       "      <td>train_id_2</td>\n",
       "      <td>2016-01-16</td>\n",
       "      <td>TU 0214</td>\n",
       "      <td>TUN</td>\n",
       "      <td>IST</td>\n",
       "      <td>2016-01-16 04:10:00</td>\n",
       "      <td>2016-01-16 06.45.00</td>\n",
       "      <td>ATA</td>\n",
       "      <td>TU 32AIMN</td>\n",
       "      <td>0.0</td>\n",
       "    </tr>\n",
       "    <tr>\n",
       "      <th>3</th>\n",
       "      <td>train_id_3</td>\n",
       "      <td>2016-01-17</td>\n",
       "      <td>TU 0480</td>\n",
       "      <td>DJE</td>\n",
       "      <td>NTE</td>\n",
       "      <td>2016-01-17 14:10:00</td>\n",
       "      <td>2016-01-17 17.00.00</td>\n",
       "      <td>ATA</td>\n",
       "      <td>TU 736IOK</td>\n",
       "      <td>0.0</td>\n",
       "    </tr>\n",
       "    <tr>\n",
       "      <th>4</th>\n",
       "      <td>train_id_4</td>\n",
       "      <td>2016-01-17</td>\n",
       "      <td>TU 0338</td>\n",
       "      <td>TUN</td>\n",
       "      <td>ALG</td>\n",
       "      <td>2016-01-17 14:30:00</td>\n",
       "      <td>2016-01-17 15.50.00</td>\n",
       "      <td>ATA</td>\n",
       "      <td>TU 320IMU</td>\n",
       "      <td>22.0</td>\n",
       "    </tr>\n",
       "    <tr>\n",
       "      <th>...</th>\n",
       "      <td>...</td>\n",
       "      <td>...</td>\n",
       "      <td>...</td>\n",
       "      <td>...</td>\n",
       "      <td>...</td>\n",
       "      <td>...</td>\n",
       "      <td>...</td>\n",
       "      <td>...</td>\n",
       "      <td>...</td>\n",
       "      <td>...</td>\n",
       "    </tr>\n",
       "    <tr>\n",
       "      <th>107828</th>\n",
       "      <td>train_id_107828</td>\n",
       "      <td>2018-07-05</td>\n",
       "      <td>WKL 0000</td>\n",
       "      <td>TUN</td>\n",
       "      <td>TUN</td>\n",
       "      <td>2018-07-05 23:00:00</td>\n",
       "      <td>2018-07-06 02.00.00</td>\n",
       "      <td>SCH</td>\n",
       "      <td>TU 32AIML</td>\n",
       "      <td>0.0</td>\n",
       "    </tr>\n",
       "    <tr>\n",
       "      <th>107829</th>\n",
       "      <td>train_id_107829</td>\n",
       "      <td>2018-01-13</td>\n",
       "      <td>UG 0003</td>\n",
       "      <td>DJE</td>\n",
       "      <td>TUN</td>\n",
       "      <td>2018-01-13 08:00:00</td>\n",
       "      <td>2018-01-13 09.00.00</td>\n",
       "      <td>SCH</td>\n",
       "      <td>UG AT7AT7</td>\n",
       "      <td>0.0</td>\n",
       "    </tr>\n",
       "    <tr>\n",
       "      <th>107830</th>\n",
       "      <td>train_id_107830</td>\n",
       "      <td>2018-11-07</td>\n",
       "      <td>SGT 0000</td>\n",
       "      <td>TUN</td>\n",
       "      <td>TUN</td>\n",
       "      <td>2018-11-07 05:00:00</td>\n",
       "      <td>2018-11-07 12.50.00</td>\n",
       "      <td>SCH</td>\n",
       "      <td>TU 736IOK</td>\n",
       "      <td>0.0</td>\n",
       "    </tr>\n",
       "    <tr>\n",
       "      <th>107831</th>\n",
       "      <td>train_id_107831</td>\n",
       "      <td>2018-01-23</td>\n",
       "      <td>UG 0010</td>\n",
       "      <td>TUN</td>\n",
       "      <td>DJE</td>\n",
       "      <td>2018-01-23 18:00:00</td>\n",
       "      <td>2018-01-23 18.45.00</td>\n",
       "      <td>ATA</td>\n",
       "      <td>TU CR9ISA</td>\n",
       "      <td>0.0</td>\n",
       "    </tr>\n",
       "    <tr>\n",
       "      <th>107832</th>\n",
       "      <td>train_id_107832</td>\n",
       "      <td>2018-11-13</td>\n",
       "      <td>UG 0002</td>\n",
       "      <td>TUN</td>\n",
       "      <td>DJE</td>\n",
       "      <td>2018-11-13 06:15:00</td>\n",
       "      <td>2018-11-13 07.05.00</td>\n",
       "      <td>SCH</td>\n",
       "      <td>TU CR9ISA</td>\n",
       "      <td>0.0</td>\n",
       "    </tr>\n",
       "  </tbody>\n",
       "</table>\n",
       "<p>107833 rows × 10 columns</p>\n",
       "</div>"
      ],
      "text/plain": [
       "                     ID       DATOP      FLTID DEPSTN ARRSTN  \\\n",
       "0            train_id_0  2016-01-03   TU 0712     CMN    TUN   \n",
       "1            train_id_1  2016-01-13   TU 0757     MXP    TUN   \n",
       "2            train_id_2  2016-01-16   TU 0214     TUN    IST   \n",
       "3            train_id_3  2016-01-17   TU 0480     DJE    NTE   \n",
       "4            train_id_4  2016-01-17   TU 0338     TUN    ALG   \n",
       "...                 ...         ...        ...    ...    ...   \n",
       "107828  train_id_107828  2018-07-05  WKL 0000     TUN    TUN   \n",
       "107829  train_id_107829  2018-01-13   UG 0003     DJE    TUN   \n",
       "107830  train_id_107830  2018-11-07  SGT 0000     TUN    TUN   \n",
       "107831  train_id_107831  2018-01-23   UG 0010     TUN    DJE   \n",
       "107832  train_id_107832  2018-11-13   UG 0002     TUN    DJE   \n",
       "\n",
       "                        STD                  STA STATUS         AC  target  \n",
       "0       2016-01-03 10:30:00  2016-01-03 12.55.00    ATA  TU 32AIMN   260.0  \n",
       "1       2016-01-13 15:05:00  2016-01-13 16.55.00    ATA  TU 31BIMO    20.0  \n",
       "2       2016-01-16 04:10:00  2016-01-16 06.45.00    ATA  TU 32AIMN     0.0  \n",
       "3       2016-01-17 14:10:00  2016-01-17 17.00.00    ATA  TU 736IOK     0.0  \n",
       "4       2016-01-17 14:30:00  2016-01-17 15.50.00    ATA  TU 320IMU    22.0  \n",
       "...                     ...                  ...    ...        ...     ...  \n",
       "107828  2018-07-05 23:00:00  2018-07-06 02.00.00    SCH  TU 32AIML     0.0  \n",
       "107829  2018-01-13 08:00:00  2018-01-13 09.00.00    SCH  UG AT7AT7     0.0  \n",
       "107830  2018-11-07 05:00:00  2018-11-07 12.50.00    SCH  TU 736IOK     0.0  \n",
       "107831  2018-01-23 18:00:00  2018-01-23 18.45.00    ATA  TU CR9ISA     0.0  \n",
       "107832  2018-11-13 06:15:00  2018-11-13 07.05.00    SCH  TU CR9ISA     0.0  \n",
       "\n",
       "[107833 rows x 10 columns]"
      ]
     },
     "execution_count": 2,
     "metadata": {},
     "output_type": "execute_result"
    }
   ],
   "source": [
    "import pandas as pd\n",
    "\n",
    "df_train = pd.read_csv(\"data/Train.csv\")\n",
    "df_test = pd.read_csv('data/Test.csv')\n",
    "\n",
    "df_train\n"
   ]
  },
  {
   "cell_type": "markdown",
   "metadata": {},
   "source": [
    "## Geodata"
   ]
  },
  {
   "cell_type": "code",
   "execution_count": 3,
   "metadata": {},
   "outputs": [],
   "source": [
    "from geopy import merge_geodata\n",
    "from geopy import get_geodata\n",
    "\n",
    "# add geodata to dataframe\n",
    "geo_data_train = get_geodata(df_train.DEPSTN, df_train.ARRSTN)\n",
    "geo_data_test = get_geodata(df_test.DEPSTN, df_test.ARRSTN)\n",
    "\n",
    "df_train_geo = merge_geodata(df_train, geo_data_train, 'DEPSTN')\n",
    "df_train_geo = merge_geodata(df_train_geo, geo_data_train, 'ARRSTN')\n",
    "\n",
    "df_test_geo = merge_geodata(df_test, geo_data_test, 'DEPSTN')\n",
    "df_test_geo = merge_geodata(df_test_geo, geo_data_test, 'ARRSTN')"
   ]
  },
  {
   "cell_type": "markdown",
   "metadata": {},
   "source": [
    "## Date data type convertion"
   ]
  },
  {
   "cell_type": "code",
   "execution_count": 8,
   "metadata": {},
   "outputs": [
    {
     "name": "stdout",
     "output_type": "stream",
     "text": [
      "['-', '-', ' ', ':', ':']\n"
     ]
    },
    {
     "ename": "UnboundLocalError",
     "evalue": "local variable 'date' referenced before assignment",
     "output_type": "error",
     "traceback": [
      "\u001b[0;31m---------------------------------------------------------------------------\u001b[0m",
      "\u001b[0;31mUnboundLocalError\u001b[0m                         Traceback (most recent call last)",
      "Cell \u001b[0;32mIn [8], line 4\u001b[0m\n\u001b[1;32m      2\u001b[0m \u001b[39mfrom\u001b[39;00m \u001b[39mdate_pyler\u001b[39;00m \u001b[39mimport\u001b[39;00m to_date\n\u001b[1;32m      3\u001b[0m \u001b[39m#columnwise datetype conversion on dataframe \u001b[39;00m\n\u001b[0;32m----> 4\u001b[0m applier_cwise(df_train_geo, [\u001b[39m\"\u001b[39;49m\u001b[39mSTD\u001b[39;49m\u001b[39m\"\u001b[39;49m, \u001b[39m\"\u001b[39;49m\u001b[39mSTA\u001b[39;49m\u001b[39m\"\u001b[39;49m], to_date)\n\u001b[1;32m      5\u001b[0m applier_cwise(df_test_geo, [\u001b[39m\"\u001b[39m\u001b[39mSTD\u001b[39m\u001b[39m\"\u001b[39m, \u001b[39m\"\u001b[39m\u001b[39mSTA\u001b[39m\u001b[39m\"\u001b[39m], to_date)\n",
      "File \u001b[0;32m~/neuefische/Flight_Delay_Prediction/date_pyler.py:20\u001b[0m, in \u001b[0;36mapplier_cwise\u001b[0;34m(dataframe, columns, func)\u001b[0m\n\u001b[1;32m     18\u001b[0m \u001b[39mfor\u001b[39;00m col \u001b[39min\u001b[39;00m columns:\n\u001b[1;32m     19\u001b[0m     \u001b[39mif\u001b[39;00m dataframe[col]\u001b[39m.\u001b[39mdtype \u001b[39m==\u001b[39m \u001b[39mobject\u001b[39m:\n\u001b[0;32m---> 20\u001b[0m         dataframe\u001b[39m.\u001b[39mloc[:, col] \u001b[39m=\u001b[39m dataframe[col]\u001b[39m.\u001b[39;49mapply(func)\n",
      "File \u001b[0;32m~/neuefische/Flight_Delay_Prediction/.venv/lib/python3.9/site-packages/pandas/core/series.py:4357\u001b[0m, in \u001b[0;36mSeries.apply\u001b[0;34m(self, func, convert_dtype, args, **kwargs)\u001b[0m\n\u001b[1;32m   4247\u001b[0m \u001b[39mdef\u001b[39;00m \u001b[39mapply\u001b[39m(\n\u001b[1;32m   4248\u001b[0m     \u001b[39mself\u001b[39m,\n\u001b[1;32m   4249\u001b[0m     func: AggFuncType,\n\u001b[0;32m   (...)\u001b[0m\n\u001b[1;32m   4252\u001b[0m     \u001b[39m*\u001b[39m\u001b[39m*\u001b[39mkwargs,\n\u001b[1;32m   4253\u001b[0m ) \u001b[39m-\u001b[39m\u001b[39m>\u001b[39m FrameOrSeriesUnion:\n\u001b[1;32m   4254\u001b[0m     \u001b[39m\"\"\"\u001b[39;00m\n\u001b[1;32m   4255\u001b[0m \u001b[39m    Invoke function on values of Series.\u001b[39;00m\n\u001b[1;32m   4256\u001b[0m \n\u001b[0;32m   (...)\u001b[0m\n\u001b[1;32m   4355\u001b[0m \u001b[39m    dtype: float64\u001b[39;00m\n\u001b[1;32m   4356\u001b[0m \u001b[39m    \"\"\"\u001b[39;00m\n\u001b[0;32m-> 4357\u001b[0m     \u001b[39mreturn\u001b[39;00m SeriesApply(\u001b[39mself\u001b[39;49m, func, convert_dtype, args, kwargs)\u001b[39m.\u001b[39;49mapply()\n",
      "File \u001b[0;32m~/neuefische/Flight_Delay_Prediction/.venv/lib/python3.9/site-packages/pandas/core/apply.py:1043\u001b[0m, in \u001b[0;36mSeriesApply.apply\u001b[0;34m(self)\u001b[0m\n\u001b[1;32m   1039\u001b[0m \u001b[39mif\u001b[39;00m \u001b[39misinstance\u001b[39m(\u001b[39mself\u001b[39m\u001b[39m.\u001b[39mf, \u001b[39mstr\u001b[39m):\n\u001b[1;32m   1040\u001b[0m     \u001b[39m# if we are a string, try to dispatch\u001b[39;00m\n\u001b[1;32m   1041\u001b[0m     \u001b[39mreturn\u001b[39;00m \u001b[39mself\u001b[39m\u001b[39m.\u001b[39mapply_str()\n\u001b[0;32m-> 1043\u001b[0m \u001b[39mreturn\u001b[39;00m \u001b[39mself\u001b[39;49m\u001b[39m.\u001b[39;49mapply_standard()\n",
      "File \u001b[0;32m~/neuefische/Flight_Delay_Prediction/.venv/lib/python3.9/site-packages/pandas/core/apply.py:1098\u001b[0m, in \u001b[0;36mSeriesApply.apply_standard\u001b[0;34m(self)\u001b[0m\n\u001b[1;32m   1092\u001b[0m         values \u001b[39m=\u001b[39m obj\u001b[39m.\u001b[39mastype(\u001b[39mobject\u001b[39m)\u001b[39m.\u001b[39m_values\n\u001b[1;32m   1093\u001b[0m         \u001b[39m# error: Argument 2 to \"map_infer\" has incompatible type\u001b[39;00m\n\u001b[1;32m   1094\u001b[0m         \u001b[39m# \"Union[Callable[..., Any], str, List[Union[Callable[..., Any], str]],\u001b[39;00m\n\u001b[1;32m   1095\u001b[0m         \u001b[39m# Dict[Hashable, Union[Union[Callable[..., Any], str],\u001b[39;00m\n\u001b[1;32m   1096\u001b[0m         \u001b[39m# List[Union[Callable[..., Any], str]]]]]\"; expected\u001b[39;00m\n\u001b[1;32m   1097\u001b[0m         \u001b[39m# \"Callable[[Any], Any]\"\u001b[39;00m\n\u001b[0;32m-> 1098\u001b[0m         mapped \u001b[39m=\u001b[39m lib\u001b[39m.\u001b[39;49mmap_infer(\n\u001b[1;32m   1099\u001b[0m             values,\n\u001b[1;32m   1100\u001b[0m             f,  \u001b[39m# type: ignore[arg-type]\u001b[39;49;00m\n\u001b[1;32m   1101\u001b[0m             convert\u001b[39m=\u001b[39;49m\u001b[39mself\u001b[39;49m\u001b[39m.\u001b[39;49mconvert_dtype,\n\u001b[1;32m   1102\u001b[0m         )\n\u001b[1;32m   1104\u001b[0m \u001b[39mif\u001b[39;00m \u001b[39mlen\u001b[39m(mapped) \u001b[39mand\u001b[39;00m \u001b[39misinstance\u001b[39m(mapped[\u001b[39m0\u001b[39m], ABCSeries):\n\u001b[1;32m   1105\u001b[0m     \u001b[39m# GH 25959 use pd.array instead of tolist\u001b[39;00m\n\u001b[1;32m   1106\u001b[0m     \u001b[39m# so extension arrays can be used\u001b[39;00m\n\u001b[1;32m   1107\u001b[0m     \u001b[39mreturn\u001b[39;00m obj\u001b[39m.\u001b[39m_constructor_expanddim(pd_array(mapped), index\u001b[39m=\u001b[39mobj\u001b[39m.\u001b[39mindex)\n",
      "File \u001b[0;32m~/neuefische/Flight_Delay_Prediction/.venv/lib/python3.9/site-packages/pandas/_libs/lib.pyx:2859\u001b[0m, in \u001b[0;36mpandas._libs.lib.map_infer\u001b[0;34m()\u001b[0m\n",
      "File \u001b[0;32m~/neuefische/Flight_Delay_Prediction/date_pyler.py:14\u001b[0m, in \u001b[0;36mto_date\u001b[0;34m(string, order)\u001b[0m\n\u001b[1;32m     12\u001b[0m \u001b[39mexcept\u001b[39;00m:\n\u001b[1;32m     13\u001b[0m     \u001b[39mprint\u001b[39m(spacings)\n\u001b[0;32m---> 14\u001b[0m \u001b[39mreturn\u001b[39;00m date\n",
      "\u001b[0;31mUnboundLocalError\u001b[0m: local variable 'date' referenced before assignment"
     ]
    }
   ],
   "source": [
    "from date_pyler import applier_cwise\n",
    "from date_pyler import to_date\n",
    "#columnwise datetype conversion on dataframe \n",
    "applier_cwise(df_train_geo, [\"STD\", \"STA\"], to_date)\n",
    "applier_cwise(df_test_geo, [\"STD\", \"STA\"], to_date)"
   ]
  },
  {
   "cell_type": "code",
   "execution_count": 137,
   "metadata": {},
   "outputs": [
    {
     "name": "stdout",
     "output_type": "stream",
     "text": [
      "<class 'pandas.core.frame.DataFrame'>\n",
      "Int64Index: 107833 entries, 0 to 107832\n",
      "Data columns (total 20 columns):\n",
      " #   Column            Non-Null Count   Dtype         \n",
      "---  ------            --------------   -----         \n",
      " 0   ID                107833 non-null  object        \n",
      " 1   DATOP             107833 non-null  object        \n",
      " 2   FLTID             107833 non-null  object        \n",
      " 3   DEPSTN            107833 non-null  object        \n",
      " 4   ARRSTN            107833 non-null  object        \n",
      " 5   STD               107833 non-null  datetime64[ns]\n",
      " 6   STA               107833 non-null  datetime64[ns]\n",
      " 7   STATUS            107833 non-null  object        \n",
      " 8   AC                107833 non-null  object        \n",
      " 9   target            107833 non-null  float64       \n",
      " 10  iata_DEPSTN       107501 non-null  object        \n",
      " 11  country_DEPSTN    107501 non-null  object        \n",
      " 12  lat_DEPSTN        107501 non-null  float64       \n",
      " 13  lon_DEPSTN        107501 non-null  float64       \n",
      " 14  elevation_DEPSTN  107501 non-null  float64       \n",
      " 15  iata_ARRSTN       107501 non-null  object        \n",
      " 16  country_ARRSTN    107501 non-null  object        \n",
      " 17  lat_ARRSTN        107501 non-null  float64       \n",
      " 18  lon_ARRSTN        107501 non-null  float64       \n",
      " 19  elevation_ARRSTN  107501 non-null  float64       \n",
      "dtypes: datetime64[ns](2), float64(7), object(11)\n",
      "memory usage: 17.3+ MB\n"
     ]
    }
   ],
   "source": [
    "df_test_geo.info()"
   ]
  },
  {
   "cell_type": "code",
   "execution_count": 26,
   "metadata": {},
   "outputs": [],
   "source": [
    "df_train_conv = date_type_converter(df_train_geo, ['STD'], format= '%Y-%m-%d %H:%M:%S')\n",
    "df_train_conv = date_type_converter(df_train_geo, ['STA'], format= '%Y-%m-%d %H.%M.%S')\n",
    "\n",
    "df_test_conv = date_type_converter(df_test_geo, ['STD'], format = '%Y-%m-%d %H:%M:%S')\n",
    "df_test_conv = date_type_converter(df_test_geo, ['STA'], format = '%Y-%m-%d %H.%M.%S')"
   ]
  },
  {
   "cell_type": "code",
   "execution_count": 30,
   "metadata": {},
   "outputs": [
    {
     "ename": "AttributeError",
     "evalue": "'DataFrame' object has no attribute 'str'",
     "output_type": "error",
     "traceback": [
      "\u001b[0;31m---------------------------------------------------------------------------\u001b[0m",
      "\u001b[0;31mAttributeError\u001b[0m                            Traceback (most recent call last)",
      "Cell \u001b[0;32mIn [30], line 1\u001b[0m\n\u001b[0;32m----> 1\u001b[0m df_train[[\u001b[39m'\u001b[39;49m\u001b[39mSTD\u001b[39;49m\u001b[39m'\u001b[39;49m, \u001b[39m'\u001b[39;49m\u001b[39mSTA\u001b[39;49m\u001b[39m'\u001b[39;49m]]\u001b[39m.\u001b[39;49mstr\u001b[39m.\u001b[39mfindall(\u001b[39m'\u001b[39m\u001b[39m\\\u001b[39m\u001b[39mD\u001b[39m\u001b[39m'\u001b[39m)\n",
      "File \u001b[0;32m~/neuefische/Flight_Delay_Prediction/.venv/lib/python3.9/site-packages/pandas/core/generic.py:5487\u001b[0m, in \u001b[0;36mNDFrame.__getattr__\u001b[0;34m(self, name)\u001b[0m\n\u001b[1;32m   5480\u001b[0m \u001b[39mif\u001b[39;00m (\n\u001b[1;32m   5481\u001b[0m     name \u001b[39mnot\u001b[39;00m \u001b[39min\u001b[39;00m \u001b[39mself\u001b[39m\u001b[39m.\u001b[39m_internal_names_set\n\u001b[1;32m   5482\u001b[0m     \u001b[39mand\u001b[39;00m name \u001b[39mnot\u001b[39;00m \u001b[39min\u001b[39;00m \u001b[39mself\u001b[39m\u001b[39m.\u001b[39m_metadata\n\u001b[1;32m   5483\u001b[0m     \u001b[39mand\u001b[39;00m name \u001b[39mnot\u001b[39;00m \u001b[39min\u001b[39;00m \u001b[39mself\u001b[39m\u001b[39m.\u001b[39m_accessors\n\u001b[1;32m   5484\u001b[0m     \u001b[39mand\u001b[39;00m \u001b[39mself\u001b[39m\u001b[39m.\u001b[39m_info_axis\u001b[39m.\u001b[39m_can_hold_identifiers_and_holds_name(name)\n\u001b[1;32m   5485\u001b[0m ):\n\u001b[1;32m   5486\u001b[0m     \u001b[39mreturn\u001b[39;00m \u001b[39mself\u001b[39m[name]\n\u001b[0;32m-> 5487\u001b[0m \u001b[39mreturn\u001b[39;00m \u001b[39mobject\u001b[39;49m\u001b[39m.\u001b[39;49m\u001b[39m__getattribute__\u001b[39;49m(\u001b[39mself\u001b[39;49m, name)\n",
      "\u001b[0;31mAttributeError\u001b[0m: 'DataFrame' object has no attribute 'str'"
     ]
    }
   ],
   "source": [
    "df_train[['STD', 'STA']].str.findall('\\D')"
   ]
  }
 ],
 "metadata": {
  "kernelspec": {
   "display_name": "Python 3.9.8 ('.venv': venv)",
   "language": "python",
   "name": "python3"
  },
  "language_info": {
   "codemirror_mode": {
    "name": "ipython",
    "version": 3
   },
   "file_extension": ".py",
   "mimetype": "text/x-python",
   "name": "python",
   "nbconvert_exporter": "python",
   "pygments_lexer": "ipython3",
   "version": "3.9.8"
  },
  "orig_nbformat": 4,
  "vscode": {
   "interpreter": {
    "hash": "b214b7db7f21c5d56a6f9764857b0c409fc8d9753294ab5c0f20057bc971ae9e"
   }
  }
 },
 "nbformat": 4,
 "nbformat_minor": 2
}
