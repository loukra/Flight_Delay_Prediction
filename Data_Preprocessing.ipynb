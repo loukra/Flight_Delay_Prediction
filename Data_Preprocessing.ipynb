{
 "cells": [
  {
   "cell_type": "markdown",
   "metadata": {},
   "source": [
    "## Data Preprocessing"
   ]
  },
  {
   "cell_type": "code",
   "execution_count": 5,
   "metadata": {},
   "outputs": [],
   "source": [
    "import pandas as pd\n",
    "\n",
    "df = pd.read_csv(\"data/Train.csv\")\n",
    "\n"
   ]
  },
  {
   "cell_type": "markdown",
   "metadata": {},
   "source": [
    "## Geodata"
   ]
  },
  {
   "cell_type": "code",
   "execution_count": 6,
   "metadata": {},
   "outputs": [],
   "source": [
    "from geopy import merge_geodata\n",
    "from geopy import get_geodata\n",
    "\n",
    "# add geodata to dataframe\n",
    "geo_data = get_geodata(df.DEPSTN, df.ARRSTN)\n",
    "\n",
    "df_geo = merge_geodata(df, geo_data, 'DEPSTN')\n",
    "df_geo = merge_geodata(df_geo, geo_data, 'ARRSTN')"
   ]
  },
  {
   "cell_type": "markdown",
   "metadata": {},
   "source": [
    "## Date data type convertion"
   ]
  },
  {
   "cell_type": "code",
   "execution_count": 7,
   "metadata": {},
   "outputs": [],
   "source": [
    "from date_pyler import applier_cwise\n",
    "from date_pyler import to_date\n",
    "#columnwise datetype conversion on dataframe \n",
    "date_order = [[\"%Y\", \"%m\", \"%d\", \"%H\", \"%M\", \"%S\"],[\"%Y\", \"%m\", \"%d\", \"%H\", \"%M\", \"%S\"],[\"%Y\", \"%m\", \"%d\"]]\n",
    "applier_cwise(df_geo, [\"STD\", \"STA\", \"DATOP\"], to_date, orders = date_order)\n",
    "\n"
   ]
  },
  {
   "cell_type": "code",
   "execution_count": 8,
   "metadata": {},
   "outputs": [
    {
     "name": "stdout",
     "output_type": "stream",
     "text": [
      "<class 'pandas.core.frame.DataFrame'>\n",
      "Int64Index: 107833 entries, 0 to 107832\n",
      "Data columns (total 20 columns):\n",
      " #   Column            Non-Null Count   Dtype         \n",
      "---  ------            --------------   -----         \n",
      " 0   ID                107833 non-null  object        \n",
      " 1   DATOP             107833 non-null  datetime64[ns]\n",
      " 2   FLTID             107833 non-null  object        \n",
      " 3   DEPSTN            107833 non-null  object        \n",
      " 4   ARRSTN            107833 non-null  object        \n",
      " 5   STD               107833 non-null  datetime64[ns]\n",
      " 6   STA               107833 non-null  datetime64[ns]\n",
      " 7   STATUS            107833 non-null  object        \n",
      " 8   AC                107833 non-null  object        \n",
      " 9   target            107833 non-null  float64       \n",
      " 10  iata_DEPSTN       107501 non-null  object        \n",
      " 11  country_DEPSTN    107501 non-null  object        \n",
      " 12  lat_DEPSTN        107501 non-null  float64       \n",
      " 13  lon_DEPSTN        107501 non-null  float64       \n",
      " 14  elevation_DEPSTN  107501 non-null  float64       \n",
      " 15  iata_ARRSTN       107501 non-null  object        \n",
      " 16  country_ARRSTN    107501 non-null  object        \n",
      " 17  lat_ARRSTN        107501 non-null  float64       \n",
      " 18  lon_ARRSTN        107501 non-null  float64       \n",
      " 19  elevation_ARRSTN  107501 non-null  float64       \n",
      "dtypes: datetime64[ns](3), float64(7), object(10)\n",
      "memory usage: 17.3+ MB\n"
     ]
    },
    {
     "data": {
      "text/plain": [
       "0        2016-01-03\n",
       "1        2016-01-13\n",
       "2        2016-01-16\n",
       "3        2016-01-17\n",
       "4        2016-01-17\n",
       "            ...    \n",
       "107828   2018-07-05\n",
       "107829   2018-01-13\n",
       "107830   2018-11-07\n",
       "107831   2018-01-23\n",
       "107832   2018-11-13\n",
       "Name: DATOP, Length: 107833, dtype: datetime64[ns]"
      ]
     },
     "execution_count": 8,
     "metadata": {},
     "output_type": "execute_result"
    }
   ],
   "source": [
    "df_geo.info()\n",
    "df_geo.DATOP"
   ]
  }
 ],
 "metadata": {
  "kernelspec": {
   "display_name": "Python 3.9.8 ('.venv': venv)",
   "language": "python",
   "name": "python3"
  },
  "language_info": {
   "codemirror_mode": {
    "name": "ipython",
    "version": 3
   },
   "file_extension": ".py",
   "mimetype": "text/x-python",
   "name": "python",
   "nbconvert_exporter": "python",
   "pygments_lexer": "ipython3",
   "version": "3.9.8"
  },
  "orig_nbformat": 4,
  "vscode": {
   "interpreter": {
    "hash": "b214b7db7f21c5d56a6f9764857b0c409fc8d9753294ab5c0f20057bc971ae9e"
   }
  }
 },
 "nbformat": 4,
 "nbformat_minor": 2
}
